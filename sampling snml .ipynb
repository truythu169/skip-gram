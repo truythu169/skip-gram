{
 "cells": [
  {
   "cell_type": "code",
   "execution_count": 159,
   "metadata": {},
   "outputs": [],
   "source": [
    "import utils.tools as utils\n",
    "import numpy as np"
   ]
  },
  {
   "cell_type": "code",
   "execution_count": 160,
   "metadata": {},
   "outputs": [],
   "source": [
    "probs_50 = utils.load_pkl('output/analysis/50dim_probs.pkl')\n",
    "probs_100 = utils.load_pkl('output/analysis/100dim_probs.pkl')\n",
    "probs_150 = utils.load_pkl('output/analysis/150dim_probs.pkl')\n",
    "probs_200 = utils.load_pkl('output/analysis/200dim_probs.pkl')"
   ]
  },
  {
   "cell_type": "code",
   "execution_count": 161,
   "metadata": {},
   "outputs": [
    {
     "name": "stdout",
     "output_type": "stream",
     "text": [
      "50dim :  8.406466647675344\n",
      "100dim :  8.537713016898548\n",
      "150dim :  9.109613312116679\n",
      "200dim :  9.86055902779794\n"
     ]
    }
   ],
   "source": [
    "print('50dim : ', -np.log(probs_50[390] / np.sum(probs_50)))\n",
    "print('100dim : ', -np.log(probs_100[390] / np.sum(probs_100)))\n",
    "print('150dim : ', -np.log(probs_150[390] / np.sum(probs_150)))\n",
    "print('200dim : ', -np.log(probs_200[390] / np.sum(probs_200)))"
   ]
  },
  {
   "cell_type": "code",
   "execution_count": 163,
   "metadata": {},
   "outputs": [
    {
     "name": "stdout",
     "output_type": "stream",
     "text": [
      "50dim :  0.0003354949876666069\n",
      "100dim :  0.00038792143459431827\n",
      "150dim :  0.0002848123840522021\n",
      "200dim :  0.00018435549282003194\n"
     ]
    }
   ],
   "source": [
    "print('50dim : ', probs_50[390])\n",
    "print('100dim : ', probs_100[390])\n",
    "print('150dim : ', probs_150[390])\n",
    "print('200dim : ', probs_200[390])"
   ]
  },
  {
   "cell_type": "code",
   "execution_count": 162,
   "metadata": {},
   "outputs": [
    {
     "name": "stdout",
     "output_type": "stream",
     "text": [
      "50dim :  1.5016479015489812\n",
      "100dim :  1.9798187297717038\n",
      "150dim :  2.5752160051025133\n",
      "200dim :  3.5321769821269235\n"
     ]
    }
   ],
   "source": [
    "print('50dim : ', np.sum(probs_50))\n",
    "print('100dim : ', np.sum(probs_100))\n",
    "print('150dim : ', np.sum(probs_150))\n",
    "print('200dim : ', np.sum(probs_200))"
   ]
  },
  {
   "cell_type": "code",
   "execution_count": 164,
   "metadata": {},
   "outputs": [],
   "source": [
    "def sampling_snml(true_label, probs, sample_size):\n",
    "    sample_contexts, sample_contexts_prob = utils.sample_contexts('snml/context_distribution.pkl', sample_size)\n",
    "    prob_sum = 0\n",
    "    for i in range(len(sample_contexts)):\n",
    "        c = sample_contexts[i]\n",
    "        c_prob = sample_contexts_prob[i]\n",
    "        \n",
    "        prob_sum += probs[c] / c_prob\n",
    "    prob_sum = prob_sum / sample_size\n",
    "    \n",
    "    return -np.log(probs[true_label] / prob_sum)"
   ]
  },
  {
   "cell_type": "code",
   "execution_count": 165,
   "metadata": {},
   "outputs": [
    {
     "name": "stdout",
     "output_type": "stream",
     "text": [
      "Mean: 8.415240114259001 \n",
      "Min: 8.303169075072281 \n",
      "Max: 8.59311930007106 \n",
      "std: 0.06477391664882826\n"
     ]
    }
   ],
   "source": [
    "result = []\n",
    "for i in range(100):\n",
    "    result.append(sampling_snml(390, probs_50, 6000))\n",
    "result = np.array(result)\n",
    "print('Mean: {} \\nMin: {} \\nMax: {} \\nstd: {}'.format(np.mean(result), min(result), max(result), np.std(result)))"
   ]
  },
  {
   "cell_type": "code",
   "execution_count": 166,
   "metadata": {},
   "outputs": [
    {
     "name": "stdout",
     "output_type": "stream",
     "text": [
      "Mean: 8.527013764425302 \n",
      "Min: 8.39795206144715 \n",
      "Max: 8.816344828469457 \n",
      "std: 0.09517490564108384\n"
     ]
    }
   ],
   "source": [
    "result = []\n",
    "for i in range(100):\n",
    "    result.append(sampling_snml(390, probs_100, 6000))\n",
    "result = np.array(result)\n",
    "print('Mean: {} \\nMin: {} \\nMax: {} \\nstd: {}'.format(np.mean(result), min(result), max(result), np.std(result)))"
   ]
  },
  {
   "cell_type": "code",
   "execution_count": 167,
   "metadata": {},
   "outputs": [
    {
     "name": "stdout",
     "output_type": "stream",
     "text": [
      "Mean: 9.101912380092356 \n",
      "Min: 8.952840661669924 \n",
      "Max: 9.729547110090477 \n",
      "std: 0.11886990271638467\n"
     ]
    }
   ],
   "source": [
    "result = []\n",
    "for i in range(100):\n",
    "    result.append(sampling_snml(390, probs_150, 6000))\n",
    "result = np.array(result)\n",
    "print('Mean: {} \\nMin: {} \\nMax: {} \\nstd: {}'.format(np.mean(result), min(result), max(result), np.std(result)))"
   ]
  },
  {
   "cell_type": "code",
   "execution_count": 168,
   "metadata": {},
   "outputs": [
    {
     "name": "stdout",
     "output_type": "stream",
     "text": [
      "Mean: 9.853904475579066 \n",
      "Min: 9.652385409003783 \n",
      "Max: 10.385369501436807 \n",
      "std: 0.14672976318408504\n"
     ]
    }
   ],
   "source": [
    "result = []\n",
    "for i in range(100):\n",
    "    result.append(sampling_snml(390, probs_200, 6000))\n",
    "result = np.array(result)\n",
    "print('Mean: {} \\nMin: {} \\nMax: {} \\nstd: {}'.format(np.mean(result), min(result), max(result), np.std(result)))"
   ]
  },
  {
   "cell_type": "code",
   "execution_count": null,
   "metadata": {},
   "outputs": [],
   "source": []
  }
 ],
 "metadata": {
  "kernelspec": {
   "display_name": "Python 3",
   "language": "python",
   "name": "python3"
  },
  "language_info": {
   "codemirror_mode": {
    "name": "ipython",
    "version": 3
   },
   "file_extension": ".py",
   "mimetype": "text/x-python",
   "name": "python",
   "nbconvert_exporter": "python",
   "pygments_lexer": "ipython3",
   "version": "3.6.9"
  }
 },
 "nbformat": 4,
 "nbformat_minor": 2
}
