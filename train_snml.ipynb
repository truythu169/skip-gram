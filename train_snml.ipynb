{
 "cells": [
  {
   "cell_type": "code",
   "execution_count": 1,
   "metadata": {},
   "outputs": [],
   "source": [
    "from snml.tf_based.model import Model\n",
    "import time\n",
    "import numpy as np\n",
    "import argparse"
   ]
  },
  {
   "cell_type": "code",
   "execution_count": 2,
   "metadata": {},
   "outputs": [
    {
     "name": "stdout",
     "output_type": "stream",
     "text": [
      "WARNING:tensorflow:From /home/hung/anaconda3/envs/tensorflow-1.12.0/lib/python3.6/site-packages/tensorflow/python/ops/nn_impl.py:1124: sparse_to_dense (from tensorflow.python.ops.sparse_ops) is deprecated and will be removed in a future version.\n",
      "Instructions for updating:\n",
      "Create a `tf.sparse.SparseTensor` and use `tf.sparse.to_dense` instead.\n"
     ]
    }
   ],
   "source": [
    "model = Model('snml/models/50dim/', \n",
    "              'data/processed data/split/', \n",
    "              'snml/models/50dim/output/',\n",
    "               n_train_sample=10000)"
   ]
  },
  {
   "cell_type": "code",
   "execution_count": 5,
   "metadata": {},
   "outputs": [
    {
     "name": "stdout",
     "output_type": "stream",
     "text": [
      "[[6581  390]\n",
      " [  93 1172]\n",
      " [4519 1545]\n",
      " ...\n",
      " [3983 2054]\n",
      " [4469 3891]\n",
      " [2389  513]]\n"
     ]
    }
   ],
   "source": [
    "# read snml train file\n",
    "data = np.genfromtxt('data/processed data/scope.csv', delimiter=',').astype(int)\n",
    "print(data)"
   ]
  },
  {
   "cell_type": "code",
   "execution_count": null,
   "metadata": {},
   "outputs": [
    {
     "name": "stdout",
     "output_type": "stream",
     "text": [
      "Average 50 dim: 0.00039149246062152086\n",
      "Average 100 dim: 0.0006172137247631327\n",
      "Average 150 dim: 0.0005213845628895797\n"
     ]
    }
   ],
   "source": [
    "# 50 dim\n",
    "p_sum = 0\n",
    "for i in range(100):\n",
    "    p = model.train(data[0][0], data[0][1], epochs=20, update_weigh=False)\n",
    "    p_sum += p\n",
    "\n",
    "print('Average 50 dim:', p_sum / 100)\n",
    "\n",
    "# 100 dim\n",
    "model.change_model('snml/models/100dim/')\n",
    "p_sum = 0\n",
    "for i in range(100):\n",
    "    p = model.train(data[0][0], data[0][1], epochs=20, update_weigh=False)\n",
    "    p_sum += p\n",
    "\n",
    "print('Average 100 dim:', p_sum / 100)\n",
    "\n",
    "# 150 dim\n",
    "model.change_model('snml/models/150dim/')\n",
    "p_sum = 0\n",
    "for i in range(100):\n",
    "    p = model.train(data[0][0], data[0][1], epochs=20, update_weigh=False)\n",
    "    p_sum += p\n",
    "\n",
    "print('Average 150 dim:', p_sum / 100)\n",
    "\n",
    "# 200 dim\n",
    "model.change_model('snml/models/200dim/')\n",
    "p_sum = 0\n",
    "for i in range(100):\n",
    "    p = model.train(data[0][0], data[0][1], epochs=20, update_weigh=False)\n",
    "    p_sum += p\n",
    "\n",
    "print('Average 200 dim:', p_sum / 100)"
   ]
  },
  {
   "cell_type": "code",
   "execution_count": null,
   "metadata": {},
   "outputs": [],
   "source": []
  }
 ],
 "metadata": {
  "kernelspec": {
   "display_name": "Python 3",
   "language": "python",
   "name": "python3"
  },
  "language_info": {
   "codemirror_mode": {
    "name": "ipython",
    "version": 3
   },
   "file_extension": ".py",
   "mimetype": "text/x-python",
   "name": "python",
   "nbconvert_exporter": "python",
   "pygments_lexer": "ipython3",
   "version": "3.6.9"
  }
 },
 "nbformat": 4,
 "nbformat_minor": 2
}
