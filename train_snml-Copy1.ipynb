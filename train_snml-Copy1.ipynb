{
 "cells": [
  {
   "cell_type": "code",
   "execution_count": 1,
   "metadata": {},
   "outputs": [],
   "source": [
    "import os\n",
    "os.environ[\"CUDA_DEVICE_ORDER\"]=\"PCI_BUS_ID\"   # see issue #152\n",
    "os.environ[\"CUDA_VISIBLE_DEVICES\"]=\"1\"\n",
    "\n",
    "from snml.tf_based.model import Model\n",
    "import time\n",
    "import numpy as np\n",
    "import argparse\n",
    "import utils.tools as utils"
   ]
  },
  {
   "cell_type": "code",
   "execution_count": 2,
   "metadata": {},
   "outputs": [],
   "source": [
    "# read snml train file\n",
    "data = np.genfromtxt('data/processed data/scope.csv', delimiter=',').astype(int)"
   ]
  },
  {
   "cell_type": "code",
   "execution_count": 3,
   "metadata": {},
   "outputs": [],
   "source": [
    "def snml_length(model, word, context, epochs=20):\n",
    "    print('Start training for {} contexts ...'.format(model.n_context))\n",
    "    probs = np.zeros(model.n_context)\n",
    "    prob_sum = 0\n",
    "    iteration = 0\n",
    "\n",
    "    # Update all other context\n",
    "    start = time.time()\n",
    "    for c in range(model.n_context):\n",
    "        if c != context:\n",
    "            iteration += 1\n",
    "            prob = model._train_sample(word, c, epochs, update_weigh=False)\n",
    "            prob_sum += prob\n",
    "            probs[c] = prob\n",
    "\n",
    "            if iteration % 1000 == 0:\n",
    "                end = time.time()\n",
    "                print(\"Iteration: {}, \".format(iteration),\n",
    "                      \"{:.4f} sec\".format(end - start))\n",
    "                start = time.time()\n",
    "\n",
    "    # Update true context and save weights\n",
    "    prob = model._train_sample(word, context, epochs, update_weigh=True)\n",
    "    probs[context] = prob\n",
    "    prob_sum += prob\n",
    "    snml_length = - np.log(prob / prob_sum)\n",
    "    \n",
    "    # save prob to file\n",
    "    utils.save_pkl(probs, 'output/analysis/{}dim_probs.pkl'.format(model.n_embedding))\n",
    "    \n",
    "    print('Finished!')\n",
    "    return snml_length"
   ]
  },
  {
   "cell_type": "code",
   "execution_count": 4,
   "metadata": {},
   "outputs": [
    {
     "name": "stdout",
     "output_type": "stream",
     "text": [
      "WARNING:tensorflow:From /home/hung/anaconda3/envs/tensorflow-1.12.0/lib/python3.6/site-packages/tensorflow/python/ops/nn_impl.py:1124: sparse_to_dense (from tensorflow.python.ops.sparse_ops) is deprecated and will be removed in a future version.\n",
      "Instructions for updating:\n",
      "Create a `tf.sparse.SparseTensor` and use `tf.sparse.to_dense` instead.\n"
     ]
    }
   ],
   "source": [
    "model = Model('snml/models/50dim/', \n",
    "              'data/processed data/split/', \n",
    "              'snml/models/50dim/output/', \n",
    "              'snml/context_distribution.pkl',\n",
    "              n_train_sample=10000, n_context_sample=400)"
   ]
  },
  {
   "cell_type": "code",
   "execution_count": 6,
   "metadata": {},
   "outputs": [
    {
     "name": "stdout",
     "output_type": "stream",
     "text": [
      "Start training for 30964 contexts ...\n",
      "Iteration: 1000,  89.4762 sec\n",
      "Iteration: 2000,  82.9346 sec\n",
      "Iteration: 3000,  82.7830 sec\n",
      "Iteration: 4000,  82.7090 sec\n",
      "Iteration: 5000,  82.8162 sec\n",
      "Iteration: 6000,  83.7457 sec\n",
      "Iteration: 7000,  86.8120 sec\n",
      "Iteration: 8000,  83.8260 sec\n",
      "Iteration: 9000,  82.9582 sec\n",
      "Iteration: 10000,  82.6571 sec\n",
      "Iteration: 11000,  82.6087 sec\n",
      "Iteration: 12000,  82.6494 sec\n",
      "Iteration: 13000,  83.1501 sec\n",
      "Iteration: 14000,  82.6421 sec\n",
      "Iteration: 15000,  82.6239 sec\n",
      "Iteration: 16000,  82.6458 sec\n",
      "Iteration: 17000,  82.4986 sec\n",
      "Iteration: 18000,  82.5081 sec\n",
      "Iteration: 19000,  82.5715 sec\n",
      "Iteration: 20000,  82.5937 sec\n",
      "Iteration: 21000,  82.5833 sec\n",
      "Iteration: 22000,  82.6740 sec\n",
      "Iteration: 23000,  83.0746 sec\n",
      "Iteration: 24000,  82.7214 sec\n",
      "Iteration: 25000,  82.6665 sec\n",
      "Iteration: 26000,  82.6480 sec\n",
      "Iteration: 27000,  82.7540 sec\n",
      "Iteration: 28000,  82.6636 sec\n",
      "Iteration: 29000,  82.6358 sec\n",
      "Iteration: 30000,  82.6217 sec\n",
      "Finished!\n",
      "50 dim:  8.21024479998944\n"
     ]
    }
   ],
   "source": [
    "# 50 dim\n",
    "snml_length = snml_length(model, data[0][0], data[0][1])\n",
    "print('50 dim: ', snml_length)"
   ]
  },
  {
   "cell_type": "code",
   "execution_count": 5,
   "metadata": {},
   "outputs": [
    {
     "name": "stdout",
     "output_type": "stream",
     "text": [
      "Start training for 30964 contexts ...\n",
      "Iteration: 1000,  178.8880 sec\n",
      "Iteration: 2000,  179.5944 sec\n",
      "Iteration: 3000,  179.4403 sec\n",
      "Iteration: 4000,  178.9562 sec\n",
      "Iteration: 5000,  178.8700 sec\n",
      "Iteration: 6000,  178.7152 sec\n",
      "Iteration: 7000,  178.8175 sec\n",
      "Iteration: 8000,  178.6827 sec\n",
      "Iteration: 9000,  178.7105 sec\n",
      "Iteration: 10000,  178.7269 sec\n",
      "Iteration: 11000,  178.2854 sec\n",
      "Iteration: 12000,  178.4606 sec\n",
      "Iteration: 13000,  178.2424 sec\n",
      "Iteration: 14000,  178.3870 sec\n",
      "Iteration: 15000,  178.2900 sec\n",
      "Iteration: 16000,  178.1456 sec\n",
      "Iteration: 17000,  178.2015 sec\n",
      "Iteration: 18000,  178.1213 sec\n",
      "Iteration: 19000,  178.3886 sec\n",
      "Iteration: 20000,  178.3151 sec\n",
      "Iteration: 21000,  178.2878 sec\n",
      "Iteration: 22000,  178.2717 sec\n",
      "Iteration: 23000,  178.1220 sec\n",
      "Iteration: 24000,  178.1522 sec\n",
      "Iteration: 25000,  178.2872 sec\n",
      "Iteration: 26000,  178.1777 sec\n",
      "Iteration: 27000,  178.1655 sec\n",
      "Iteration: 28000,  178.3286 sec\n",
      "Iteration: 29000,  170.8278 sec\n",
      "Iteration: 30000,  170.1019 sec\n",
      "Finished!\n",
      "100 dim:  8.537713016898548\n"
     ]
    }
   ],
   "source": [
    "# 100 dim\n",
    "model.change_model('snml/models/100dim/')\n",
    "snml_length = snml_length(model, data[0][0], data[0][1])\n",
    "print('100 dim: ', snml_length)"
   ]
  },
  {
   "cell_type": "code",
   "execution_count": null,
   "metadata": {},
   "outputs": [],
   "source": [
    "# 150 dim\n",
    "model.change_model('snml/models/150dim/')\n",
    "snml_length = snml_length(model, data[0][0], data[0][1])\n",
    "print('150 dim: ', snml_length)"
   ]
  },
  {
   "cell_type": "code",
   "execution_count": 6,
   "metadata": {},
   "outputs": [
    {
     "name": "stdout",
     "output_type": "stream",
     "text": [
      "Start training for 30964 contexts ...\n",
      "Iteration: 1000,  217.1958 sec\n",
      "Iteration: 2000,  218.3147 sec\n",
      "Iteration: 3000,  216.9041 sec\n",
      "Iteration: 4000,  216.5262 sec\n",
      "Iteration: 5000,  216.5768 sec\n",
      "Iteration: 6000,  216.3914 sec\n",
      "Iteration: 7000,  216.4927 sec\n",
      "Iteration: 8000,  216.3592 sec\n",
      "Iteration: 9000,  215.9896 sec\n",
      "Iteration: 10000,  216.2280 sec\n",
      "Iteration: 11000,  216.3386 sec\n",
      "Iteration: 12000,  216.1964 sec\n",
      "Iteration: 13000,  216.2090 sec\n",
      "Iteration: 14000,  215.8800 sec\n",
      "Iteration: 15000,  215.9484 sec\n",
      "Iteration: 16000,  215.8260 sec\n",
      "Iteration: 17000,  215.8133 sec\n",
      "Iteration: 18000,  215.9359 sec\n",
      "Iteration: 19000,  219.6040 sec\n",
      "Iteration: 20000,  231.6151 sec\n",
      "Iteration: 21000,  231.4022 sec\n",
      "Iteration: 22000,  231.7624 sec\n",
      "Iteration: 23000,  233.5375 sec\n",
      "Iteration: 24000,  233.7663 sec\n",
      "Iteration: 25000,  235.1665 sec\n",
      "Iteration: 26000,  235.1446 sec\n",
      "Iteration: 27000,  234.6226 sec\n",
      "Iteration: 28000,  233.1107 sec\n",
      "Iteration: 29000,  235.2423 sec\n",
      "Iteration: 30000,  231.1391 sec\n",
      "Finished!\n",
      "200 dim:  9.86055902779794\n"
     ]
    }
   ],
   "source": [
    "# 200 dim\n",
    "model.change_model('snml/models/200dim/')\n",
    "snml_length = snml_length(model, data[0][0], data[0][1])\n",
    "print('200 dim: ', snml_length)"
   ]
  },
  {
   "cell_type": "code",
   "execution_count": null,
   "metadata": {},
   "outputs": [],
   "source": [
    "probs = utils.load_pkl('output/analysis/150dim_probs.pkl')\n",
    "print(probs)"
   ]
  }
 ],
 "metadata": {
  "kernelspec": {
   "display_name": "Python 3",
   "language": "python",
   "name": "python3"
  },
  "language_info": {
   "codemirror_mode": {
    "name": "ipython",
    "version": 3
   },
   "file_extension": ".py",
   "mimetype": "text/x-python",
   "name": "python",
   "nbconvert_exporter": "python",
   "pygments_lexer": "ipython3",
   "version": "3.6.9"
  }
 },
 "nbformat": 4,
 "nbformat_minor": 2
}
